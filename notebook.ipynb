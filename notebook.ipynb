{
 "cells": [
  {
   "cell_type": "code",
   "execution_count": null,
   "metadata": {},
   "outputs": [],
   "source": [
    "import pandas as pd\n",
    "import plotly.express as px\n",
    "from sklearn.datasets import load_iris\n",
    "\n",
    "# Carregar o dataset Iris\n",
    "iris = load_iris()\n",
    "df = pd.DataFrame(iris.data, columns=iris.feature_names)\n",
    "df['species'] = iris.target\n",
    "df['species'] = df['species'].map({i: iris.target_names[i] for i in range(len(iris.target_names))})\n",
    "\n",
    "# Exibir as primeiras linhas do dataset\n",
    "print(\"Primeiras linhas do dataset:\")\n",
    "df.head()\n",
    "\n"
   ]
  },
  {
   "cell_type": "code",
   "execution_count": null,
   "metadata": {},
   "outputs": [],
   "source": [
    "# Gráfico de dispersão interativo para analisar as relações entre as características\n",
    "fig_scatter = px.scatter_matrix(\n",
    "    df,\n",
    "    dimensions=iris.feature_names,\n",
    "    color='species',\n",
    "    title=\"Matriz de Dispersão do Dataset Iris\",\n",
    "    labels={col: col.split(' (')[0] for col in iris.feature_names},\n",
    "    width=900,\n",
    "    height=800\n",
    ")\n",
    "fig_scatter.show()\n"
   ]
  },
  {
   "cell_type": "code",
   "execution_count": null,
   "metadata": {},
   "outputs": [],
   "source": [
    "\n",
    "# Gráfico de caixa para comparação das distribuições por espécie\n",
    "fig_box = px.box(\n",
    "    df,\n",
    "    x='species',\n",
    "    y=iris.feature_names[0],  # Alterar a feature analisada, ex: sepal length (cm)\n",
    "    color='species',\n",
    "    title=f\"Distribuição de {iris.feature_names[0]} por Espécie\",\n",
    "    labels={'species': 'Espécie', iris.feature_names[0]: iris.feature_names[0].split(' (')[0]}\n",
    ")\n",
    "fig_box.show()\n"
   ]
  },
  {
   "cell_type": "code",
   "execution_count": null,
   "metadata": {},
   "outputs": [],
   "source": [
    "# Gráfico 3D interativo para uma visualização em múltiplas dimensões\n",
    "fig_3d = px.scatter_3d(\n",
    "    df,\n",
    "    x=iris.feature_names[0],\n",
    "    y=iris.feature_names[1],\n",
    "    z=iris.feature_names[2],\n",
    "    color='species',\n",
    "    title=\"Visualização 3D do Dataset Iris\",\n",
    "    labels={col: col.split(' (')[0] for col in iris.feature_names}\n",
    ")\n",
    "fig_3d.show()\n"
   ]
  }
 ],
 "metadata": {
  "kernelspec": {
   "display_name": ".venv",
   "language": "python",
   "name": "python3"
  },
  "language_info": {
   "codemirror_mode": {
    "name": "ipython",
    "version": 3
   },
   "file_extension": ".py",
   "mimetype": "text/x-python",
   "name": "python",
   "nbconvert_exporter": "python",
   "pygments_lexer": "ipython3",
   "version": "3.12.7"
  }
 },
 "nbformat": 4,
 "nbformat_minor": 2
}
